{
 "cells": [
  {
   "cell_type": "code",
   "execution_count": 248,
   "metadata": {},
   "outputs": [
    {
     "name": "stdout",
     "output_type": "stream",
     "text": [
      "Diabetic Data:\n",
      "   encounter_id  patient_nbr             race  gender      age weight  \\\n",
      "0       2278392      8222157        Caucasian  Female   [0-10)      ?   \n",
      "1        149190     55629189        Caucasian  Female  [10-20)      ?   \n",
      "2         64410     86047875  AfricanAmerican  Female  [20-30)      ?   \n",
      "3        500364     82442376        Caucasian    Male  [30-40)      ?   \n",
      "4         16680     42519267        Caucasian    Male  [40-50)      ?   \n",
      "\n",
      "   admission_type_id  discharge_disposition_id  admission_source_id  \\\n",
      "0                  6                        25                    1   \n",
      "1                  1                         1                    7   \n",
      "2                  1                         1                    7   \n",
      "3                  1                         1                    7   \n",
      "4                  1                         1                    7   \n",
      "\n",
      "   time_in_hospital  ... citoglipton insulin  glyburide-metformin  \\\n",
      "0                 1  ...          No      No                   No   \n",
      "1                 3  ...          No      Up                   No   \n",
      "2                 2  ...          No      No                   No   \n",
      "3                 2  ...          No      Up                   No   \n",
      "4                 1  ...          No  Steady                   No   \n",
      "\n",
      "   glipizide-metformin  glimepiride-pioglitazone  metformin-rosiglitazone  \\\n",
      "0                   No                        No                       No   \n",
      "1                   No                        No                       No   \n",
      "2                   No                        No                       No   \n",
      "3                   No                        No                       No   \n",
      "4                   No                        No                       No   \n",
      "\n",
      "   metformin-pioglitazone  change diabetesMed readmitted  \n",
      "0                      No      No          No         NO  \n",
      "1                      No      Ch         Yes        >30  \n",
      "2                      No      No         Yes         NO  \n",
      "3                      No      Ch         Yes         NO  \n",
      "4                      No      Ch         Yes         NO  \n",
      "\n",
      "[5 rows x 50 columns]\n",
      "\n",
      "IDS Mapping:\n",
      "  admission_type_id    description\n",
      "0                 1      Emergency\n",
      "1                 2         Urgent\n",
      "2                 3       Elective\n",
      "3                 4        Newborn\n",
      "4                 5  Not Available\n"
     ]
    }
   ],
   "source": [
    "# Import necessary libraries\n",
    "import pandas as pd\n",
    "import numpy as np\n",
    "import seaborn as sns\n",
    "import matplotlib.pyplot as plt\n",
    "from sklearn.preprocessing import MinMaxScaler\n",
    "\n",
    "# Load the datasets\n",
    "diabetic_data = pd.read_csv('diabetic_data.csv')\n",
    "ids_mapping = pd.read_csv('IDS_mapping.csv')\n",
    "\n",
    "# Display the first few rows of the datasets\n",
    "print(\"Diabetic Data:\")\n",
    "print(diabetic_data.head())\n",
    "\n",
    "print(\"\\nIDS Mapping:\")\n",
    "print(ids_mapping.head())"
   ]
  },
  {
   "cell_type": "code",
   "execution_count": 249,
   "metadata": {},
   "outputs": [
    {
     "name": "stdout",
     "output_type": "stream",
     "text": [
      "\n",
      "Missing Values in Diabetic Data:\n",
      "race                  2273\n",
      "gender                   3\n",
      "weight               98569\n",
      "payer_code           40256\n",
      "medical_specialty    49949\n",
      "diag_1                  21\n",
      "diag_2                 358\n",
      "diag_3                1423\n",
      "max_glu_serum        96420\n",
      "A1Cresult            84748\n",
      "dtype: int64\n"
     ]
    }
   ],
   "source": [
    "# Identify and handle non-standard missing values\n",
    "missing_value_indicators = ['?', 'Unknown/Invalid', 'NULL', 'Not Available', 'Not Mapped', 'NA', 'None']\n",
    "\n",
    "# Replace missing value indicators with NaN\n",
    "for indicator in missing_value_indicators:\n",
    "    diabetic_data.replace(indicator, np.nan, inplace=True)\n",
    "\n",
    "# Check for missing values in diabetic data\n",
    "missing_values = diabetic_data.isnull().sum()\n",
    "print(\"\\nMissing Values in Diabetic Data:\")\n",
    "print(missing_values[missing_values > 0])"
   ]
  },
  {
   "cell_type": "code",
   "execution_count": 250,
   "metadata": {},
   "outputs": [
    {
     "name": "stdout",
     "output_type": "stream",
     "text": [
      "Features removed:\n",
      "Index(['examide', 'citoglipton'], dtype='object')\n",
      "\n",
      "Missing Values in Diabetic Data:\n",
      "diag_1      21\n",
      "diag_2     358\n",
      "diag_3    1423\n",
      "dtype: int64\n"
     ]
    }
   ],
   "source": [
    "# Remove features with too many missing values\n",
    "features_to_remove = ['weight', 'payer_code']\n",
    "diabetic_data.drop(columns=features_to_remove, inplace=True)\n",
    "\n",
    "# Remove medications which were not prescribed\n",
    "unique_value_counts = diabetic_data.nunique()\n",
    "features_to_remove = unique_value_counts[unique_value_counts == 1].index\n",
    "diabetic_data.drop(columns=features_to_remove, inplace=True)\n",
    "print(\"Features removed:\")\n",
    "print(features_to_remove)\n",
    "\n",
    "# Handle features by filling missing values with 'missing'\n",
    "diabetic_data.fillna({'medical_specialty': 'NotSpecefied'}, inplace=True)\n",
    "diabetic_data.fillna({'max_glu_serum': 'TestNotPerformed'}, inplace=True)\n",
    "diabetic_data.fillna({'A1Cresult': 'TestNotPerformed'}, inplace=True)\n",
    "diabetic_data.fillna({'race': 'Missing'}, inplace=True)\n",
    "diabetic_data.dropna(subset=['gender'], inplace=True)\n",
    "missing_values = diabetic_data.isnull().sum()\n",
    "print(\"\\nMissing Values in Diabetic Data:\")\n",
    "print(missing_values[missing_values > 0])"
   ]
  },
  {
   "cell_type": "code",
   "execution_count": 251,
   "metadata": {},
   "outputs": [],
   "source": [
    "# remove patients prescribed troglitazone for toxicity and withdrawl and remove feature\n",
    "diabetic_data = diabetic_data[diabetic_data['troglitazone'] == 'No']\n",
    "diabetic_data.drop(columns=['troglitazone'], inplace=True)"
   ]
  },
  {
   "cell_type": "markdown",
   "metadata": {},
   "source": [
    "Now we remove the duplicate patient encounters."
   ]
  },
  {
   "cell_type": "code",
   "execution_count": 252,
   "metadata": {
    "vscode": {
     "languageId": "powershell"
    }
   },
   "outputs": [],
   "source": [
    "diabetic_data = diabetic_data.loc[diabetic_data.groupby('patient_nbr')['encounter_id'].idxmin()]\n"
   ]
  },
  {
   "cell_type": "markdown",
   "metadata": {},
   "source": [
    "And then remove hospice and expired patients."
   ]
  },
  {
   "cell_type": "code",
   "execution_count": 253,
   "metadata": {
    "vscode": {
     "languageId": "powershell"
    }
   },
   "outputs": [],
   "source": [
    "high_risk_dispositions = [11, 13, 14, 19, 20, 21]\n",
    "diabetic_data = diabetic_data[~diabetic_data['discharge_disposition_id'].isin(high_risk_dispositions)]"
   ]
  },
  {
   "cell_type": "markdown",
   "metadata": {},
   "source": [
    "Now we prepare for one hot encoding by converting diagnoses codes to disease groups"
   ]
  },
  {
   "cell_type": "code",
   "execution_count": 254,
   "metadata": {
    "vscode": {
     "languageId": "powershell"
    }
   },
   "outputs": [],
   "source": [
    "# Define the diagnosis code mapping with detailed labels and convert to strings\n",
    "diagnosis_mapping = {\n",
    "    'Diseases_of_circulatory_system': {str(i) for i in range(390, 460)}.union({'785'}),\n",
    "    'Diseases_of_the_respiratory_system': {str(i) for i in range(460, 520)}.union({'786'}),\n",
    "    'Diseases_of_the_digestive_system': {str(i) for i in range(520, 580)}.union({'787'}),\n",
    "    'Diabetes_mellitus': {'250'},\n",
    "    'Injury_and_poisoning': {str(i) for i in range(800, 1000)},\n",
    "    'Diseases_of_the_musculoskeletal_system_and_connective_tissue': {str(i) for i in range(710, 740)},\n",
    "    'Diseases_of_the_genitourinary_system': {str(i) for i in range(580, 630)}.union({'788'}),\n",
    "    'Neoplasms': {str(i) for i in range(140, 240)},\n",
    "    'Other_symptoms_signs_and_ill_defined_conditions': {str(i) for i in range(790, 800)}.union({'780', '781', '784'}),\n",
    "    'Endocrine_nutritional_and_metabolic_diseases_and_immunity_disorders_without_diabetes': {str(i) for i in range(240, 280) if i != 250},\n",
    "    'Diseases_of_the_skin_and_subcutaneous_tissue': {str(i) for i in range(680, 710)}.union({'782'}),\n",
    "    'Infectious_and_parasitic_diseases': {str(i) for i in range(1, 140)},\n",
    "    'Mental_disorders': {str(i) for i in range(290, 320)},\n",
    "    'Diseases_of_the_blood_and_blood_forming_organs': {str(i) for i in range(280, 290)},\n",
    "    'Diseases_of_the_nervous_system': {str(i) for i in range(320, 360)},\n",
    "    'Complications_of_pregnancy_childbirth_and_the_puerperium': {str(i) for i in range(630, 680)},\n",
    "    'Diseases_of_the_sense_organs': {str(i) for i in range(360, 390)},\n",
    "    'Congenital_anomalies': {str(i) for i in range(740, 760)},\n",
    "    'External_causes_of_injury_and_supplemental_classification': {'E'},\n",
    "    'Supplementary_classification': {'V'}\n",
    "}\n",
    "\n",
    "\n",
    "# Function to map diagnosis codes to categories\n",
    "def map_diagnosis(code):\n",
    "    if pd.isna(code) or code == 'No diag':\n",
    "        return 'Unknown'\n",
    "    code_str = str(code).upper()\n",
    "    for category, codes in diagnosis_mapping.items():\n",
    "        if any(code_str.startswith(c) for c in codes):\n",
    "            return category\n",
    "    return 'Other'\n",
    "\n",
    "# Apply the mapping function to diagnosis columns\n",
    "diabetic_data['diag_1'] = diabetic_data['diag_1'].apply(map_diagnosis)\n",
    "diabetic_data['diag_2'] = diabetic_data['diag_2'].apply(map_diagnosis)\n",
    "diabetic_data['diag_3'] = diabetic_data['diag_3'].apply(map_diagnosis)"
   ]
  },
  {
   "cell_type": "code",
   "execution_count": 255,
   "metadata": {
    "vscode": {
     "languageId": "powershell"
    }
   },
   "outputs": [],
   "source": [
    "# Create dictionaries for the mappings\n",
    "admission_type_mapping = {\n",
    "    1: 'Emergency',\n",
    "    2: 'Urgent',\n",
    "    3: 'Elective',\n",
    "    4: 'Newborn',\n",
    "    5: 'Not Available',\n",
    "    6: 'NULL',\n",
    "    7: 'Trauma Center',\n",
    "    8: 'Not Mapped'\n",
    "}\n",
    "\n",
    "discharge_disposition_mapping = {\n",
    "    1: 'Discharged to home',\n",
    "    2: 'Discharged/transferred to another short term hospital',\n",
    "    3: 'Discharged/transferred to SNF',\n",
    "    4: 'Discharged/transferred to ICF',\n",
    "    5: 'Discharged/transferred to another type of inpatient care institution',\n",
    "    6: 'Discharged/transferred to home with home health service',\n",
    "    7: 'Left AMA',\n",
    "    8: 'Discharged/transferred to home under care of Home IV provider',\n",
    "    9: 'Admitted as an inpatient to this hospital',\n",
    "    10: 'Neonate discharged to another hospital for neonatal aftercare',\n",
    "    12: 'Still patient or expected to return for outpatient services',\n",
    "    15: 'Discharged/transferred within this institution to Medicare approved swing bed',\n",
    "    16: 'Discharged/transferred/referred another institution for outpatient services',\n",
    "    17: 'Discharged/transferred/referred to this institution for outpatient services',\n",
    "    18: 'NULL',\n",
    "    22: 'Discharged/transferred to another rehab fac including rehab units of a hospital',\n",
    "    23: 'Discharged/transferred to a long term care hospital',\n",
    "    24: 'Discharged/transferred to a nursing facility certified under Medicaid but not certified under Medicare',\n",
    "    25: 'Not Mapped',\n",
    "    26: 'Unknown/Invalid',\n",
    "    27: 'Discharged/transferred to a federal health care facility',\n",
    "    28: 'Discharged/transferred/referred to a psychiatric hospital of psychiatric distinct part unit of a hospital',\n",
    "    29: 'Discharged/transferred to a Critical Access Hospital (CAH)',\n",
    "    30: 'Discharged/transferred to another Type of Health Care Institution not Defined Elsewhere'\n",
    "}\n",
    "\n",
    "admission_source_mapping = {\n",
    "    1: 'Physician Referral',\n",
    "    2: 'Clinic Referral',\n",
    "    3: 'HMO Referral',\n",
    "    4: 'Transfer from a hospital',\n",
    "    5: 'Transfer from a Skilled Nursing Facility (SNF)',\n",
    "    6: 'Transfer from another health care facility',\n",
    "    7: 'Emergency Room',\n",
    "    8: 'Court/Law Enforcement',\n",
    "    9: 'Not Available',\n",
    "    10: 'Transfer from critical access hospital',\n",
    "    11: 'Normal Delivery',\n",
    "    12: 'Premature Delivery',\n",
    "    13: 'Sick Baby',\n",
    "    14: 'Extramural Birth',\n",
    "    15: 'Not Available',\n",
    "    17: 'NULL',\n",
    "    18: 'Transfer From Another Home Health Agency',\n",
    "    19: 'Readmission to Same Home Health Agency',\n",
    "    20: 'Not Mapped',\n",
    "    21: 'Unknown/Invalid',\n",
    "    22: 'Transfer from hospital inpt/same fac reslt in a sep claim',\n",
    "    23: 'Born inside this hospital',\n",
    "    24: 'Born outside this hospital',\n",
    "    25: 'Transfer from Ambulatory Surgery Center'\n",
    "}\n",
    "\n",
    "# Define a function to map IDs to descriptions and handle non-standard values\n",
    "def map_ids(df, column, mapping):\n",
    "    df[column] = df[column].map(mapping).fillna('NotSpecified')\n",
    "\n",
    "# Apply mappings to the appropriate columns\n",
    "map_ids(diabetic_data, 'admission_type_id', admission_type_mapping)\n",
    "map_ids(diabetic_data, 'discharge_disposition_id', discharge_disposition_mapping)\n",
    "map_ids(diabetic_data, 'admission_source_id', admission_source_mapping)\n",
    "\n",
    "# Handle non-standard values by creating a new category 'Not Specified'\n",
    "diabetic_data['admission_type_id'] = diabetic_data['admission_type_id'].replace(missing_value_indicators, 'NotSpecified')\n",
    "diabetic_data['discharge_disposition_id'] = diabetic_data['discharge_disposition_id'].replace(missing_value_indicators, 'NotSpecified')\n",
    "diabetic_data['admission_source_id'] = diabetic_data['admission_source_id'].replace(missing_value_indicators, 'NotSpecified')"
   ]
  },
  {
   "cell_type": "code",
   "execution_count": 256,
   "metadata": {
    "vscode": {
     "languageId": "powershell"
    }
   },
   "outputs": [
    {
     "name": "stdout",
     "output_type": "stream",
     "text": [
      "           age  time_in_hospital  num_lab_procedures  num_procedures  \\\n",
      "4267   [50-60)                 8                  77               6   \n",
      "5827   [50-60)                 2                  49               1   \n",
      "67608  [80-90)                 4                  68               2   \n",
      "17494  [80-90)                 3                  46               0   \n",
      "2270   [30-40)                 5                  49               0   \n",
      "\n",
      "       num_medications  number_outpatient  number_emergency  number_inpatient  \\\n",
      "4267                33                  0                 0                 0   \n",
      "5827                11                  0                 0                 0   \n",
      "67608               23                  0                 0                 0   \n",
      "17494               20                  0                 0                 0   \n",
      "2270                 5                  0                 0                 0   \n",
      "\n",
      "       number_diagnoses change  ... glyburide-metformin_No  \\\n",
      "4267                  8     Ch  ...                      1   \n",
      "5827                  3     No  ...                      1   \n",
      "67608                 9     No  ...                      1   \n",
      "17494                 9     Ch  ...                      1   \n",
      "2270                  3     No  ...                      1   \n",
      "\n",
      "       glyburide-metformin_Steady  glyburide-metformin_Up  \\\n",
      "4267                            0                       0   \n",
      "5827                            0                       0   \n",
      "67608                           0                       0   \n",
      "17494                           0                       0   \n",
      "2270                            0                       0   \n",
      "\n",
      "       glipizide-metformin_No  glipizide-metformin_Steady  \\\n",
      "4267                        1                           0   \n",
      "5827                        1                           0   \n",
      "67608                       1                           0   \n",
      "17494                       1                           0   \n",
      "2270                        1                           0   \n",
      "\n",
      "       glimepiride-pioglitazone_No  metformin-rosiglitazone_No  \\\n",
      "4267                             1                           1   \n",
      "5827                             1                           1   \n",
      "67608                            1                           1   \n",
      "17494                            1                           1   \n",
      "2270                             1                           1   \n",
      "\n",
      "       metformin-rosiglitazone_Steady  metformin-pioglitazone_No  \\\n",
      "4267                                0                          1   \n",
      "5827                                0                          1   \n",
      "67608                               0                          1   \n",
      "17494                               0                          1   \n",
      "2270                                0                          1   \n",
      "\n",
      "       metformin-pioglitazone_Steady  \n",
      "4267                               0  \n",
      "5827                               0  \n",
      "67608                              0  \n",
      "17494                              0  \n",
      "2270                               0  \n",
      "\n",
      "[5 rows x 233 columns]\n"
     ]
    }
   ],
   "source": [
    "# Create the 'primary_diagnosis' column from 'diag_1'\n",
    "diabetic_data['primary_diagnosis'] = diabetic_data['diag_1']\n",
    "\n",
    "nonordinal_class_columns = [\n",
    "    'race', 'gender', 'admission_type_id', 'discharge_disposition_id', 'admission_source_id', \n",
    "    'medical_specialty', 'primary_diagnosis', 'max_glu_serum', 'A1Cresult','metformin', \n",
    "    'repaglinide', 'nateglinide', 'chlorpropamide', 'glimepiride', 'acetohexamide', 'glipizide', \n",
    "    'glyburide', 'tolbutamide', 'pioglitazone', 'rosiglitazone', 'acarbose', 'miglitol', 'tolazamide', \n",
    "    'insulin','glyburide-metformin', 'glipizide-metformin', 'glimepiride-pioglitazone',\n",
    "    'metformin-rosiglitazone', 'metformin-pioglitazone'\n",
    "]\n",
    "\n",
    "# One-hot encoding for 'diag_2' and 'diag_3'\n",
    "diag_2_encoded = pd.get_dummies(diabetic_data['diag_2'], prefix='secondary_diag', dtype=int)\n",
    "diag_3_encoded = pd.get_dummies(diabetic_data['diag_3'], prefix='secondary_diag', dtype=int)\n",
    "secondary_diag_encoded = diag_2_encoded.add(diag_3_encoded)\n",
    "diabetic_data = pd.concat([diabetic_data, secondary_diag_encoded], axis=1)\n",
    "\n",
    "# One-hot encode the remaining nonordial columns\n",
    "diabetic_data = pd.get_dummies(diabetic_data, columns=nonordinal_class_columns, dtype=int)\n",
    "# Drop the original diagnosis columns ('diag_1', 'diag_2', 'diag_3')\n",
    "diabetic_data.drop(columns=['diag_1', 'diag_2', 'diag_3', 'diabetesMed', 'encounter_id', 'patient_nbr'], inplace=True)\n",
    "\n",
    "# Display the first few rows of the one-hot encoded data\n",
    "print(diabetic_data.head())"
   ]
  },
  {
   "cell_type": "code",
   "execution_count": 257,
   "metadata": {
    "vscode": {
     "languageId": "powershell"
    }
   },
   "outputs": [],
   "source": [
    "# Define the mapping for the age ranges\n",
    "age_mapping = {\n",
    "    '[0-10)': 0,\n",
    "    '[10-20)': 1,\n",
    "    '[20-30)': 2,\n",
    "    '[30-40)': 3,\n",
    "    '[40-50)': 4,\n",
    "    '[50-60)': 5,\n",
    "    '[60-70)': 6,\n",
    "    '[70-80)': 7,\n",
    "    '[80-90)': 8,\n",
    "    '[90-100)': 9\n",
    "}\n",
    "\n",
    "# Apply the mapping to the 'age' column\n",
    "diabetic_data['age'] = diabetic_data['age'].map(age_mapping)"
   ]
  },
  {
   "cell_type": "code",
   "execution_count": 258,
   "metadata": {
    "vscode": {
     "languageId": "powershell"
    }
   },
   "outputs": [],
   "source": [
    "# Define the mapping for the change feature\n",
    "change_mapping = {\n",
    "    'Ch': 1,\n",
    "    'No': 0\n",
    "}\n",
    "\n",
    "# Apply the mapping to the 'change' column\n",
    "diabetic_data['change'] = diabetic_data['change'].map(change_mapping)\n",
    "\n",
    "#One hot encode the readmitted column\n",
    "diabetic_data = pd.concat([diabetic_data,pd.get_dummies(diabetic_data['readmitted'], prefix='readmission_label', dtype=int)], axis=1)\n",
    "diabetic_data.drop(columns=['readmitted'], inplace=True)"
   ]
  },
  {
   "cell_type": "code",
   "execution_count": 259,
   "metadata": {
    "vscode": {
     "languageId": "powershell"
    }
   },
   "outputs": [],
   "source": [
    "\n",
    "# Scaling numerical features\n",
    "numerical_features = diabetic_data.select_dtypes(include=['int64', 'float64']).columns\n",
    "scaler = MinMaxScaler()\n",
    "diabetic_data[numerical_features] = scaler.fit_transform(diabetic_data[numerical_features])\n",
    "diabetic_data.to_csv('diabetic_data_final.csv', index=False)\n"
   ]
  },
  {
   "cell_type": "code",
   "execution_count": 260,
   "metadata": {
    "vscode": {
     "languageId": "powershell"
    }
   },
   "outputs": [
    {
     "data": {
      "text/plain": [
       "['scaler.pkl']"
      ]
     },
     "execution_count": 260,
     "metadata": {},
     "output_type": "execute_result"
    }
   ],
   "source": [
    "import joblib\n",
    "# Save the scaler for future use\n",
    "joblib.dump(scaler, 'scaler.pkl')"
   ]
  }
 ],
 "metadata": {
  "kernelspec": {
   "display_name": "Python 3",
   "language": "python",
   "name": "python3"
  },
  "language_info": {
   "codemirror_mode": {
    "name": "ipython",
    "version": 3
   },
   "file_extension": ".py",
   "mimetype": "text/x-python",
   "name": "python",
   "nbconvert_exporter": "python",
   "pygments_lexer": "ipython3",
   "version": "3.12.4"
  }
 },
 "nbformat": 4,
 "nbformat_minor": 2
}
